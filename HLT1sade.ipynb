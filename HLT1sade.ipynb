{
 "cells": [
  {
   "cell_type": "code",
   "execution_count": 11,
   "metadata": {},
   "outputs": [
    {
     "name": "stdout",
     "output_type": "stream",
     "text": [
      "hello world\n"
     ]
    }
   ],
   "source": [
    "print(\"hello world\")"
   ]
  },
  {
   "cell_type": "code",
   "execution_count": 18,
   "metadata": {},
   "outputs": [
    {
     "name": "stdout",
     "output_type": "stream",
     "text": [
      "You got it wrong\n"
     ]
    }
   ],
   "source": [
    "import random\n",
    "random_number=(\"select a random number from the random library\")\n",
    "Guess_number=int(input(\"Guess a number between 1,10:\"))\n",
    "if Guess_number == random_number:\n",
    "    print(\"You got it right! Well done\")\n",
    "else:\n",
    "    print(\"You got it wrong\")"
   ]
  },
  {
   "cell_type": "code",
   "execution_count": 20,
   "metadata": {},
   "outputs": [
    {
     "name": "stdout",
     "output_type": "stream",
     "text": [
      "Hello, please guess a number between 1,100\n",
      "I got a three foot long ruler at a yard sale\n"
     ]
    }
   ],
   "source": [
    "print(\"Hello, please guess a number between 1,100\")\n",
    "Guess_number= int(input(\"Guess_number:\"))\n",
    "if Guess_number <= 30:\n",
    "    print(\"my pet snake is exactly 3.14 metres long. He is a python\")\n",
    "elif Guess_number <= 60: \n",
    "    print(\"I got a three foot long ruler at a yard sale\")\n",
    "elif Guess_number <= 100:\n",
    "    print (\"I saw a radioactive cat it has eighteen half lives\")"
   ]
  },
  {
   "cell_type": "code",
   "execution_count": 43,
   "metadata": {},
   "outputs": [
    {
     "name": "stdout",
     "output_type": "stream",
     "text": [
      "Hello,what is your favourite starter\n",
      "What is your favourite Main\n",
      "What is your favourite Dessert\n",
      "What is your favourite Drink\n",
      " your favourite meal is  as a starter a  as a main a  as a dessert a with a glass of \n"
     ]
    }
   ],
   "source": [
    "print(\"Hello,what is your favourite starter\")\n",
    "starter = input(\"Enter your  starter:\")\n",
    "print(\"What is your favourite Main\")\n",
    "main= input(\"Enter your Main:\")\n",
    "print(\"What is your favourite Dessert\")\n",
    "Dessert= input(\"Enter your Dessert:\")\n",
    "print(\"What is your favourite Drink\")\n",
    "Drink= input(\"Enter your Drink:\")\n",
    "\n",
    "print(\" your favourite meal is\", starter, \"as a starter a\", main, \"as a main a\" ,Dessert,\"as a dessert a with a glass of\", Drink)\n"
   ]
  },
  {
   "cell_type": "code",
   "execution_count": 61,
   "metadata": {},
   "outputs": [
    {
     "name": "stdout",
     "output_type": "stream",
     "text": [
      "The motorbike cost 2000\n",
      "The motorbike cost 1800.0\n",
      "The motorbike cost 1620.0\n",
      "The motorbike cost 1458.0\n",
      "The motorbike cost 1312.2\n",
      "The motorbike cost 1180.98\n",
      "The motorbike cost 1062.882\n"
     ]
    }
   ],
   "source": [
    "\n",
    "Motorbike = 2000\n",
    "while Motorbike > 1000:\n",
    "      print(\"The motorbike cost\", Motorbike)\n",
    "      Motorbike *=0.9\n",
    "      "
   ]
  },
  {
   "cell_type": "code",
   "execution_count": 85,
   "metadata": {},
   "outputs": [
    {
     "name": "stdout",
     "output_type": "stream",
     "text": [
      "25.0\n"
     ]
    }
   ],
   "source": [
    "num1=float(input(\"Enter a number:\"))\n",
    "num2=float(input(\"Enter a second number:\"))\n",
    "Operator=input(\"Enter an operator:\" )\n",
    "if Operator == \"+\":\n",
    "    print (num1+num2)\n",
    "elif Operator == \"-\":\n",
    "    print (num1-num2)\n",
    "elif Operator == \"/\":\n",
    "    print (num1/num2)\n",
    "elif Operator == \"*\":\n",
    "    print (num1*num2)\n",
    "elif Operator == \"**\":\n",
    "    print (num1**num2)\n",
    "else:\n",
    "    print(\"an appropriate number was not selected\")"
   ]
  }
 ],
 "metadata": {
  "interpreter": {
   "hash": "8edb8fd369f49a03ac35f16bf836a01a66c9a266756083671a1268e17b160cae"
  },
  "kernelspec": {
   "display_name": "Python 3.10.0 64-bit",
   "language": "python",
   "name": "python3"
  },
  "language_info": {
   "codemirror_mode": {
    "name": "ipython",
    "version": 3
   },
   "file_extension": ".py",
   "mimetype": "text/x-python",
   "name": "python",
   "nbconvert_exporter": "python",
   "pygments_lexer": "ipython3",
   "version": "3.10.0"
  },
  "orig_nbformat": 4
 },
 "nbformat": 4,
 "nbformat_minor": 2
}
